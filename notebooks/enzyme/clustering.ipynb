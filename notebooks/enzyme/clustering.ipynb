{
 "cells": [
  {
   "cell_type": "code",
   "execution_count": 1,
   "id": "fa61c417-b9cf-481b-961d-bd06037b0648",
   "metadata": {},
   "outputs": [
    {
     "data": {
      "text/plain": [
       "'/home/INTEXSOFT/maksim.stupakevich/work/ds_practice'"
      ]
     },
     "execution_count": 1,
     "metadata": {},
     "output_type": "execute_result"
    }
   ],
   "source": [
    "import os\n",
    "\n",
    "os.chdir(\"../..\")\n",
    "os.getcwd()"
   ]
  },
  {
   "cell_type": "code",
   "execution_count": 2,
   "id": "b29de620-1e48-49a7-a40e-1af9a120a7bb",
   "metadata": {},
   "outputs": [],
   "source": [
    "import pickle\n",
    "from collections import defaultdict\n",
    "\n",
    "import matplotlib.pyplot as plt\n",
    "import numpy as np\n",
    "import pandas as pd\n",
    "from Levenshtein import editops\n",
    "from scipy import stats\n",
    "from sklearn.model_selection import train_test_split\n",
    "from sklearn.preprocessing import StandardScaler\n",
    "from tqdm import tqdm"
   ]
  },
  {
   "cell_type": "code",
   "execution_count": 3,
   "id": "e2c88fcd-4ef7-472f-9a57-8fe04b5f4d61",
   "metadata": {},
   "outputs": [],
   "source": [
    "train_df = pd.read_csv(\"data/enzyme/train.csv\", index_col=\"seq_id\")"
   ]
  },
  {
   "cell_type": "code",
   "execution_count": 4,
   "id": "56bd1df7-dfeb-49cc-b9e3-b526dcb7386d",
   "metadata": {},
   "outputs": [],
   "source": [
    "updated_df = pd.read_csv(\"data/enzyme/train_updates_20220929.csv\", index_col=\"seq_id\")"
   ]
  },
  {
   "cell_type": "code",
   "execution_count": 5,
   "id": "4640c580-d460-49b7-abcf-8fb5d715993a",
   "metadata": {},
   "outputs": [],
   "source": [
    "updated_df = updated_df.drop([\"data_source\"], axis=1).dropna()"
   ]
  },
  {
   "cell_type": "code",
   "execution_count": 6,
   "id": "9448362e-7a48-4a03-89dc-0fcc2d0ad847",
   "metadata": {},
   "outputs": [],
   "source": [
    "train_df.update(updated_df)"
   ]
  },
  {
   "cell_type": "code",
   "execution_count": 7,
   "id": "a54a22f4-b24c-490b-a559-526ca292a9ae",
   "metadata": {},
   "outputs": [
    {
     "data": {
      "text/html": [
       "<div>\n",
       "<style scoped>\n",
       "    .dataframe tbody tr th:only-of-type {\n",
       "        vertical-align: middle;\n",
       "    }\n",
       "\n",
       "    .dataframe tbody tr th {\n",
       "        vertical-align: top;\n",
       "    }\n",
       "\n",
       "    .dataframe thead th {\n",
       "        text-align: right;\n",
       "    }\n",
       "</style>\n",
       "<table border=\"1\" class=\"dataframe\">\n",
       "  <thead>\n",
       "    <tr style=\"text-align: right;\">\n",
       "      <th></th>\n",
       "      <th>protein_sequence</th>\n",
       "      <th>pH</th>\n",
       "      <th>data_source</th>\n",
       "      <th>tm</th>\n",
       "    </tr>\n",
       "    <tr>\n",
       "      <th>seq_id</th>\n",
       "      <th></th>\n",
       "      <th></th>\n",
       "      <th></th>\n",
       "      <th></th>\n",
       "    </tr>\n",
       "  </thead>\n",
       "  <tbody>\n",
       "    <tr>\n",
       "      <th>0</th>\n",
       "      <td>AAAAKAAALALLGEAPEVVDIWLPAGWRQPFRVFRLERKGDGVLVG...</td>\n",
       "      <td>7.0</td>\n",
       "      <td>doi.org/10.1038/s41592-020-0801-4</td>\n",
       "      <td>75.7</td>\n",
       "    </tr>\n",
       "    <tr>\n",
       "      <th>1</th>\n",
       "      <td>AAADGEPLHNEEERAGAGQVGRSLPQESEEQRTGSRPRRRRDLGSR...</td>\n",
       "      <td>7.0</td>\n",
       "      <td>doi.org/10.1038/s41592-020-0801-4</td>\n",
       "      <td>50.5</td>\n",
       "    </tr>\n",
       "    <tr>\n",
       "      <th>2</th>\n",
       "      <td>AAAFSTPRATSYRILSSAGSGSTRADAPQVRRLHTTRDLLAKDYYA...</td>\n",
       "      <td>7.0</td>\n",
       "      <td>doi.org/10.1038/s41592-020-0801-4</td>\n",
       "      <td>40.5</td>\n",
       "    </tr>\n",
       "    <tr>\n",
       "      <th>3</th>\n",
       "      <td>AAASGLRTAIPAQPLRHLLQPAPRPCLRPFGLLSVRAGSARRSGLL...</td>\n",
       "      <td>7.0</td>\n",
       "      <td>doi.org/10.1038/s41592-020-0801-4</td>\n",
       "      <td>47.2</td>\n",
       "    </tr>\n",
       "    <tr>\n",
       "      <th>4</th>\n",
       "      <td>AAATKSGPRRQSQGASVRTFTPFYFLVEPVDTLSVRGSSVILNCSA...</td>\n",
       "      <td>7.0</td>\n",
       "      <td>doi.org/10.1038/s41592-020-0801-4</td>\n",
       "      <td>49.5</td>\n",
       "    </tr>\n",
       "    <tr>\n",
       "      <th>...</th>\n",
       "      <td>...</td>\n",
       "      <td>...</td>\n",
       "      <td>...</td>\n",
       "      <td>...</td>\n",
       "    </tr>\n",
       "    <tr>\n",
       "      <th>31385</th>\n",
       "      <td>YYMYSGGGSALAAGGGGAGRKGDWNDIDSIKKKDLHHSRGDEKAQG...</td>\n",
       "      <td>7.0</td>\n",
       "      <td>doi.org/10.1038/s41592-020-0801-4</td>\n",
       "      <td>51.8</td>\n",
       "    </tr>\n",
       "    <tr>\n",
       "      <th>31386</th>\n",
       "      <td>YYNDQHRLSSYSVETAMFLSWERAIVKPGAMFKKAVIGFNCNVDLI...</td>\n",
       "      <td>7.0</td>\n",
       "      <td>doi.org/10.1038/s41592-020-0801-4</td>\n",
       "      <td>37.2</td>\n",
       "    </tr>\n",
       "    <tr>\n",
       "      <th>31387</th>\n",
       "      <td>YYQRTLGAELLYKISFGEMPKSAQDSAENCPSGMQFPDTAIAHANV...</td>\n",
       "      <td>7.0</td>\n",
       "      <td>doi.org/10.1038/s41592-020-0801-4</td>\n",
       "      <td>64.6</td>\n",
       "    </tr>\n",
       "    <tr>\n",
       "      <th>31388</th>\n",
       "      <td>YYSFSDNITTVFLSRQAIDDDHSLSLGTISDVVESENGVVAADDAR...</td>\n",
       "      <td>7.0</td>\n",
       "      <td>doi.org/10.1038/s41592-020-0801-4</td>\n",
       "      <td>50.7</td>\n",
       "    </tr>\n",
       "    <tr>\n",
       "      <th>31389</th>\n",
       "      <td>YYVPDEYWQSLEVAHKLTFGYGYLTWEWVQGIRSYVYPLLIAGLYK...</td>\n",
       "      <td>7.0</td>\n",
       "      <td>doi.org/10.1038/s41592-020-0801-4</td>\n",
       "      <td>37.6</td>\n",
       "    </tr>\n",
       "  </tbody>\n",
       "</table>\n",
       "<p>31390 rows × 4 columns</p>\n",
       "</div>"
      ],
      "text/plain": [
       "                                         protein_sequence   pH  \\\n",
       "seq_id                                                           \n",
       "0       AAAAKAAALALLGEAPEVVDIWLPAGWRQPFRVFRLERKGDGVLVG...  7.0   \n",
       "1       AAADGEPLHNEEERAGAGQVGRSLPQESEEQRTGSRPRRRRDLGSR...  7.0   \n",
       "2       AAAFSTPRATSYRILSSAGSGSTRADAPQVRRLHTTRDLLAKDYYA...  7.0   \n",
       "3       AAASGLRTAIPAQPLRHLLQPAPRPCLRPFGLLSVRAGSARRSGLL...  7.0   \n",
       "4       AAATKSGPRRQSQGASVRTFTPFYFLVEPVDTLSVRGSSVILNCSA...  7.0   \n",
       "...                                                   ...  ...   \n",
       "31385   YYMYSGGGSALAAGGGGAGRKGDWNDIDSIKKKDLHHSRGDEKAQG...  7.0   \n",
       "31386   YYNDQHRLSSYSVETAMFLSWERAIVKPGAMFKKAVIGFNCNVDLI...  7.0   \n",
       "31387   YYQRTLGAELLYKISFGEMPKSAQDSAENCPSGMQFPDTAIAHANV...  7.0   \n",
       "31388   YYSFSDNITTVFLSRQAIDDDHSLSLGTISDVVESENGVVAADDAR...  7.0   \n",
       "31389   YYVPDEYWQSLEVAHKLTFGYGYLTWEWVQGIRSYVYPLLIAGLYK...  7.0   \n",
       "\n",
       "                              data_source    tm  \n",
       "seq_id                                           \n",
       "0       doi.org/10.1038/s41592-020-0801-4  75.7  \n",
       "1       doi.org/10.1038/s41592-020-0801-4  50.5  \n",
       "2       doi.org/10.1038/s41592-020-0801-4  40.5  \n",
       "3       doi.org/10.1038/s41592-020-0801-4  47.2  \n",
       "4       doi.org/10.1038/s41592-020-0801-4  49.5  \n",
       "...                                   ...   ...  \n",
       "31385   doi.org/10.1038/s41592-020-0801-4  51.8  \n",
       "31386   doi.org/10.1038/s41592-020-0801-4  37.2  \n",
       "31387   doi.org/10.1038/s41592-020-0801-4  64.6  \n",
       "31388   doi.org/10.1038/s41592-020-0801-4  50.7  \n",
       "31389   doi.org/10.1038/s41592-020-0801-4  37.6  \n",
       "\n",
       "[31390 rows x 4 columns]"
      ]
     },
     "execution_count": 7,
     "metadata": {},
     "output_type": "execute_result"
    }
   ],
   "source": [
    "train_df"
   ]
  },
  {
   "cell_type": "code",
   "execution_count": 8,
   "id": "d4322d9c-4171-4b13-84b1-298e02768d80",
   "metadata": {},
   "outputs": [],
   "source": [
    "def get_count(groups):\n",
    "    count = 0\n",
    "    for k, v in groups.items():\n",
    "        count += len(v)\n",
    "    return count"
   ]
  },
  {
   "cell_type": "code",
   "execution_count": 9,
   "id": "94b28760-c447-4720-9a32-c92c40b04f4f",
   "metadata": {},
   "outputs": [],
   "source": [
    "def group(df):\n",
    "    groups = defaultdict(list)\n",
    "    proteins = df[\"protein_sequence\"].unique().tolist()\n",
    "    with tqdm(total=len(proteins)) as pbar:\n",
    "        while proteins:\n",
    "            protein = proteins.pop(0)\n",
    "            idxs_to_del = []\n",
    "            for i, el in enumerate(proteins):\n",
    "                similarity = editops(protein, el)\n",
    "                if len(similarity) <= 100:\n",
    "                    groups[protein].append(el)\n",
    "                    idxs_to_del.append(i)\n",
    "            [proteins.pop(el) for el in list(reversed(idxs_to_del))]\n",
    "            pbar.update(len(groups[protein]) + 1)\n",
    "\n",
    "    return {i: [k, *v] for i, (k, v) in enumerate(groups.items())}"
   ]
  },
  {
   "cell_type": "code",
   "execution_count": 10,
   "id": "c023e0bb-90e5-4a25-b10b-ed376e85d80f",
   "metadata": {
    "tags": []
   },
   "outputs": [
    {
     "name": "stderr",
     "output_type": "stream",
     "text": [
      "100%|███████████████████████████████████| 28981/28981 [3:53:11<00:00,  2.07it/s]\n"
     ]
    }
   ],
   "source": [
    "groups = group(train_df)"
   ]
  },
  {
   "cell_type": "code",
   "execution_count": 11,
   "id": "d464b725-fb1c-41bd-bfcb-6665aebfb5a5",
   "metadata": {
    "tags": []
   },
   "outputs": [
    {
     "data": {
      "text/plain": [
       "28981"
      ]
     },
     "execution_count": 11,
     "metadata": {},
     "output_type": "execute_result"
    }
   ],
   "source": [
    "get_count(groups)"
   ]
  },
  {
   "cell_type": "code",
   "execution_count": 12,
   "id": "f6b7df8d-c0f7-4d36-ba08-a44cd4421e6f",
   "metadata": {
    "tags": []
   },
   "outputs": [
    {
     "data": {
      "text/plain": [
       "21277"
      ]
     },
     "execution_count": 12,
     "metadata": {},
     "output_type": "execute_result"
    }
   ],
   "source": [
    "len(groups)"
   ]
  },
  {
   "cell_type": "code",
   "execution_count": 13,
   "id": "0b65b8bd-be9b-46b7-af42-84444f57a071",
   "metadata": {
    "tags": []
   },
   "outputs": [
    {
     "data": {
      "text/plain": [
       "154"
      ]
     },
     "execution_count": 13,
     "metadata": {},
     "output_type": "execute_result"
    }
   ],
   "source": [
    "len({k: v for k, v in groups.items() if len(v) >= 5})"
   ]
  },
  {
   "cell_type": "code",
   "execution_count": 14,
   "id": "86aee4e9-2fa3-4ec8-90d8-971d50515771",
   "metadata": {},
   "outputs": [],
   "source": [
    "with open(\"data/enzyme/train_groups_4_all.pkl\", \"wb\") as f:\n",
    "    pickle.dump(groups, f)"
   ]
  },
  {
   "cell_type": "code",
   "execution_count": 15,
   "id": "722efe04-08d2-4482-9e00-f531dfaa6413",
   "metadata": {},
   "outputs": [],
   "source": [
    "with open(\"data/enzyme/train_groups_4.pkl\", \"wb\") as f:\n",
    "    pickle.dump({k: v for k, v in groups.items() if len(v) > 1}, f)"
   ]
  },
  {
   "cell_type": "code",
   "execution_count": null,
   "id": "61032f7d-be83-4cfb-980d-33621b9b5178",
   "metadata": {},
   "outputs": [],
   "source": []
  },
  {
   "cell_type": "code",
   "execution_count": 9,
   "id": "6783aad8-4231-42ab-bbd2-a68ef2c637e6",
   "metadata": {},
   "outputs": [],
   "source": [
    "with open(\"data/enzyme/train_groups_3.pkl\", \"rb\") as f:\n",
    "    groups = pickle.load(f)"
   ]
  },
  {
   "cell_type": "code",
   "execution_count": null,
   "id": "4c2c6196-8e2f-443a-9823-cfec3814e004",
   "metadata": {},
   "outputs": [],
   "source": []
  },
  {
   "cell_type": "code",
   "execution_count": null,
   "id": "27aa6bb2-9abc-4ba8-b831-85a67560e2cf",
   "metadata": {},
   "outputs": [],
   "source": []
  },
  {
   "cell_type": "code",
   "execution_count": null,
   "id": "0b7c8146-d244-45f8-ac0d-177766fe952a",
   "metadata": {},
   "outputs": [],
   "source": []
  },
  {
   "cell_type": "code",
   "execution_count": 114,
   "id": "38f679d0-fb0f-497a-a208-e987dd30985a",
   "metadata": {},
   "outputs": [],
   "source": [
    "train_df[\"protein_len\"] = train_df[\"protein_sequence\"].str.len()"
   ]
  },
  {
   "cell_type": "code",
   "execution_count": 115,
   "id": "19b1e174-0566-45cf-a4a2-9cafc6bcf8f0",
   "metadata": {},
   "outputs": [
    {
     "data": {
      "text/html": [
       "<div>\n",
       "<style scoped>\n",
       "    .dataframe tbody tr th:only-of-type {\n",
       "        vertical-align: middle;\n",
       "    }\n",
       "\n",
       "    .dataframe tbody tr th {\n",
       "        vertical-align: top;\n",
       "    }\n",
       "\n",
       "    .dataframe thead th {\n",
       "        text-align: right;\n",
       "    }\n",
       "</style>\n",
       "<table border=\"1\" class=\"dataframe\">\n",
       "  <thead>\n",
       "    <tr style=\"text-align: right;\">\n",
       "      <th></th>\n",
       "      <th>protein_sequence</th>\n",
       "      <th>pH</th>\n",
       "      <th>data_source</th>\n",
       "      <th>tm</th>\n",
       "      <th>protein_len</th>\n",
       "    </tr>\n",
       "    <tr>\n",
       "      <th>seq_id</th>\n",
       "      <th></th>\n",
       "      <th></th>\n",
       "      <th></th>\n",
       "      <th></th>\n",
       "      <th></th>\n",
       "    </tr>\n",
       "  </thead>\n",
       "  <tbody>\n",
       "    <tr>\n",
       "      <th>0</th>\n",
       "      <td>AAAAKAAALALLGEAPEVVDIWLPAGWRQPFRVFRLERKGDGVLVG...</td>\n",
       "      <td>7.0</td>\n",
       "      <td>doi.org/10.1038/s41592-020-0801-4</td>\n",
       "      <td>75.7</td>\n",
       "      <td>341</td>\n",
       "    </tr>\n",
       "    <tr>\n",
       "      <th>1</th>\n",
       "      <td>AAADGEPLHNEEERAGAGQVGRSLPQESEEQRTGSRPRRRRDLGSR...</td>\n",
       "      <td>7.0</td>\n",
       "      <td>doi.org/10.1038/s41592-020-0801-4</td>\n",
       "      <td>50.5</td>\n",
       "      <td>286</td>\n",
       "    </tr>\n",
       "    <tr>\n",
       "      <th>2</th>\n",
       "      <td>AAAFSTPRATSYRILSSAGSGSTRADAPQVRRLHTTRDLLAKDYYA...</td>\n",
       "      <td>7.0</td>\n",
       "      <td>doi.org/10.1038/s41592-020-0801-4</td>\n",
       "      <td>40.5</td>\n",
       "      <td>497</td>\n",
       "    </tr>\n",
       "    <tr>\n",
       "      <th>3</th>\n",
       "      <td>AAASGLRTAIPAQPLRHLLQPAPRPCLRPFGLLSVRAGSARRSGLL...</td>\n",
       "      <td>7.0</td>\n",
       "      <td>doi.org/10.1038/s41592-020-0801-4</td>\n",
       "      <td>47.2</td>\n",
       "      <td>265</td>\n",
       "    </tr>\n",
       "    <tr>\n",
       "      <th>4</th>\n",
       "      <td>AAATKSGPRRQSQGASVRTFTPFYFLVEPVDTLSVRGSSVILNCSA...</td>\n",
       "      <td>7.0</td>\n",
       "      <td>doi.org/10.1038/s41592-020-0801-4</td>\n",
       "      <td>49.5</td>\n",
       "      <td>1451</td>\n",
       "    </tr>\n",
       "  </tbody>\n",
       "</table>\n",
       "</div>"
      ],
      "text/plain": [
       "                                         protein_sequence   pH  \\\n",
       "seq_id                                                           \n",
       "0       AAAAKAAALALLGEAPEVVDIWLPAGWRQPFRVFRLERKGDGVLVG...  7.0   \n",
       "1       AAADGEPLHNEEERAGAGQVGRSLPQESEEQRTGSRPRRRRDLGSR...  7.0   \n",
       "2       AAAFSTPRATSYRILSSAGSGSTRADAPQVRRLHTTRDLLAKDYYA...  7.0   \n",
       "3       AAASGLRTAIPAQPLRHLLQPAPRPCLRPFGLLSVRAGSARRSGLL...  7.0   \n",
       "4       AAATKSGPRRQSQGASVRTFTPFYFLVEPVDTLSVRGSSVILNCSA...  7.0   \n",
       "\n",
       "                              data_source    tm  protein_len  \n",
       "seq_id                                                        \n",
       "0       doi.org/10.1038/s41592-020-0801-4  75.7          341  \n",
       "1       doi.org/10.1038/s41592-020-0801-4  50.5          286  \n",
       "2       doi.org/10.1038/s41592-020-0801-4  40.5          497  \n",
       "3       doi.org/10.1038/s41592-020-0801-4  47.2          265  \n",
       "4       doi.org/10.1038/s41592-020-0801-4  49.5         1451  "
      ]
     },
     "execution_count": 115,
     "metadata": {},
     "output_type": "execute_result"
    }
   ],
   "source": [
    "train_df.head()"
   ]
  },
  {
   "cell_type": "code",
   "execution_count": 116,
   "id": "cda00d1d-a244-426b-90c6-9ff4900e0717",
   "metadata": {},
   "outputs": [],
   "source": [
    "lenghts = train_df.groupby(\"protein_len\").count()[[\"protein_sequence\"]].index.tolist()"
   ]
  },
  {
   "cell_type": "code",
   "execution_count": null,
   "id": "3f2099d4-726d-4cf3-975a-db6c39e3b624",
   "metadata": {},
   "outputs": [],
   "source": []
  },
  {
   "cell_type": "code",
   "execution_count": 117,
   "id": "d0bf492c-7734-4905-9589-ee9d9f532b5b",
   "metadata": {},
   "outputs": [],
   "source": [
    "GROUP_LEN_DIFFERENCE = 1\n",
    "MIN_GROUP_SIZE = 5\n",
    "GROUP_AA_DIFFERENCE = 1"
   ]
  },
  {
   "cell_type": "code",
   "execution_count": 118,
   "id": "d83a7ad0-9702-4f81-a718-c0f2b9fbb301",
   "metadata": {
    "tags": []
   },
   "outputs": [],
   "source": [
    "len_groups = {}\n",
    "for str_len in lenghts:\n",
    "    len_group = train_df[str_len == train_df[\"protein_len\"]][\n",
    "        \"protein_sequence\"\n",
    "    ].tolist()\n",
    "    if len(len_group) >= 2:\n",
    "        len_groups[str_len] = len_group"
   ]
  },
  {
   "cell_type": "code",
   "execution_count": 119,
   "id": "c6a95559-e26c-47cf-ad03-2c0ad4dd6773",
   "metadata": {},
   "outputs": [
    {
     "name": "stderr",
     "output_type": "stream",
     "text": [
      "100%|██████████████████████████████████████| 1394/1394 [00:12<00:00, 107.49it/s]\n"
     ]
    }
   ],
   "source": [
    "groups = defaultdict(dict)\n",
    "with tqdm(total=len(len_groups)) as pbar:\n",
    "\n",
    "    for group_len, proteins in len_groups.items():\n",
    "        protein_groups = defaultdict(list)\n",
    "        while proteins:\n",
    "            protein = proteins.pop(0)\n",
    "            idxs_to_del = []\n",
    "            for i, el in enumerate(proteins):\n",
    "                similarity = editops(protein, el)\n",
    "                if len(similarity) <= GROUP_AA_DIFFERENCE:\n",
    "                    protein_groups[protein].append(el)\n",
    "                    idxs_to_del.append(i)\n",
    "            [proteins.pop(el) for el in list(reversed(idxs_to_del))]\n",
    "        idxs_to_del = []\n",
    "        for protein_group, proteins in protein_groups.items():\n",
    "            if len(proteins) < MIN_GROUP_SIZE:\n",
    "                idxs_to_del.append(protein_group)\n",
    "        [protein_groups.pop(el) for el in list(reversed(idxs_to_del))]\n",
    "        if protein_groups:\n",
    "            groups[group_len] = protein_groups\n",
    "        pbar.update(1)"
   ]
  },
  {
   "cell_type": "code",
   "execution_count": 120,
   "id": "b788eaf9-ecb4-4409-85c6-13a2c80dd279",
   "metadata": {},
   "outputs": [],
   "source": [
    "def merge_groups(groups):\n",
    "    new_groups = {}\n",
    "    start_len = len(groups)\n",
    "    i = 0\n",
    "    while groups:\n",
    "        proteins = groups.pop(list(groups.keys())[0])\n",
    "        protein = proteins[0]\n",
    "\n",
    "        idxs_to_del = []\n",
    "        for k, v in groups.items():\n",
    "            similar = editops(protein, v[0])\n",
    "            if len(similar) <= 5:\n",
    "                proteins.extend(v)\n",
    "                idxs_to_del.append(k)\n",
    "        [groups.pop(el) for el in idxs_to_del]\n",
    "        new_groups[i] = proteins\n",
    "        i += 1\n",
    "\n",
    "    return new_groups"
   ]
  },
  {
   "cell_type": "code",
   "execution_count": 121,
   "id": "229d9c0d-1eb5-449a-b8db-1f790997786c",
   "metadata": {},
   "outputs": [
    {
     "data": {
      "text/plain": [
       "48"
      ]
     },
     "execution_count": 121,
     "metadata": {},
     "output_type": "execute_result"
    }
   ],
   "source": [
    "len(groups)"
   ]
  },
  {
   "cell_type": "code",
   "execution_count": 122,
   "id": "1ca815db-9ae2-40c8-a2cd-d477c723e20b",
   "metadata": {},
   "outputs": [
    {
     "name": "stderr",
     "output_type": "stream",
     "text": [
      "100%|████████████████████████████████████████| 48/48 [00:00<00:00, 13574.71it/s]\n"
     ]
    }
   ],
   "source": [
    "new_groups = {}\n",
    "number = 0\n",
    "with tqdm(total=len(groups)) as pbar:\n",
    "    for group_len, len_groups in groups.items():\n",
    "        for _, merged_group in merge_groups(len_groups).items():\n",
    "            if len(merged_group) >= MIN_GROUP_SIZE:\n",
    "                new_groups[number] = merged_group\n",
    "                number += 1\n",
    "        pbar.update(len(idxs_to_del) + 1)"
   ]
  },
  {
   "cell_type": "code",
   "execution_count": 123,
   "id": "1ed57048-b249-4ab3-887d-fcc19f28fffa",
   "metadata": {},
   "outputs": [
    {
     "data": {
      "text/plain": [
       "54"
      ]
     },
     "execution_count": 123,
     "metadata": {},
     "output_type": "execute_result"
    }
   ],
   "source": [
    "len(new_groups)"
   ]
  },
  {
   "cell_type": "code",
   "execution_count": 126,
   "id": "b61bb802-1c6f-454d-9dd5-44a823cb6a70",
   "metadata": {},
   "outputs": [],
   "source": [
    "with open(\"data/enzyme/train_groups_5.pkl\", \"wb\") as f:\n",
    "    pickle.dump(new_groups, f)"
   ]
  },
  {
   "cell_type": "code",
   "execution_count": null,
   "id": "53fdf68a-ed41-4d00-b852-ad2e6ba91d6d",
   "metadata": {},
   "outputs": [],
   "source": []
  },
  {
   "cell_type": "code",
   "execution_count": null,
   "id": "2c5fd443-ceef-453d-861b-8ce44fc8a0f5",
   "metadata": {},
   "outputs": [],
   "source": []
  },
  {
   "cell_type": "code",
   "execution_count": null,
   "id": "e2c40046-348e-4ed3-b572-7b6ee6c73aae",
   "metadata": {},
   "outputs": [],
   "source": []
  },
  {
   "cell_type": "code",
   "execution_count": null,
   "id": "ef892ba1-1203-4985-a053-4eadccdb1e0c",
   "metadata": {},
   "outputs": [],
   "source": []
  },
  {
   "cell_type": "code",
   "execution_count": 10,
   "id": "46cf7dca-ca12-40ac-b183-32d41a209345",
   "metadata": {},
   "outputs": [],
   "source": [
    "def get_group(protein, groups):\n",
    "    for group_num, group_proteins in groups.items():\n",
    "        if protein in group_proteins:\n",
    "            return group_num\n",
    "    return -1"
   ]
  },
  {
   "cell_type": "code",
   "execution_count": 32,
   "id": "1bc9edf1-444b-49a2-9dbd-06111d5805e5",
   "metadata": {},
   "outputs": [],
   "source": [
    "train_df[\"group\"] = train_df[\"protein_sequence\"].apply(\n",
    "    lambda x: get_group(\n",
    "        x,\n",
    "        groups,\n",
    "    )\n",
    ")"
   ]
  },
  {
   "cell_type": "code",
   "execution_count": 33,
   "id": "768d9cb2-f254-459d-8ad3-3bb4a35bbf85",
   "metadata": {},
   "outputs": [
    {
     "data": {
      "text/html": [
       "<div>\n",
       "<style scoped>\n",
       "    .dataframe tbody tr th:only-of-type {\n",
       "        vertical-align: middle;\n",
       "    }\n",
       "\n",
       "    .dataframe tbody tr th {\n",
       "        vertical-align: top;\n",
       "    }\n",
       "\n",
       "    .dataframe thead th {\n",
       "        text-align: right;\n",
       "    }\n",
       "</style>\n",
       "<table border=\"1\" class=\"dataframe\">\n",
       "  <thead>\n",
       "    <tr style=\"text-align: right;\">\n",
       "      <th></th>\n",
       "      <th>protein_sequence</th>\n",
       "      <th>pH</th>\n",
       "      <th>data_source</th>\n",
       "      <th>tm</th>\n",
       "      <th>group</th>\n",
       "    </tr>\n",
       "    <tr>\n",
       "      <th>seq_id</th>\n",
       "      <th></th>\n",
       "      <th></th>\n",
       "      <th></th>\n",
       "      <th></th>\n",
       "      <th></th>\n",
       "    </tr>\n",
       "  </thead>\n",
       "  <tbody>\n",
       "    <tr>\n",
       "      <th>5</th>\n",
       "      <td>AACFWRRTVIPKPPFRGISTTSARSTVMPAWVIDKYGKNEVLRFTQ...</td>\n",
       "      <td>7.0</td>\n",
       "      <td>doi.org/10.1038/s41592-020-0801-4</td>\n",
       "      <td>48.4</td>\n",
       "      <td>5</td>\n",
       "    </tr>\n",
       "    <tr>\n",
       "      <th>6</th>\n",
       "      <td>AACFWRRTVIPKPPFRGISTTSARSTVMPAWVIDKYGKNEVLRFTQ...</td>\n",
       "      <td>7.0</td>\n",
       "      <td>doi.org/10.1038/s41592-020-0801-4</td>\n",
       "      <td>45.7</td>\n",
       "      <td>5</td>\n",
       "    </tr>\n",
       "    <tr>\n",
       "      <th>20</th>\n",
       "      <td>AAMNPEYDYLFKLLLIGDSGVGKSCLLLRFADDTYTESYISTIGVD...</td>\n",
       "      <td>7.0</td>\n",
       "      <td>doi.org/10.1038/s41592-020-0801-4</td>\n",
       "      <td>42.5</td>\n",
       "      <td>19</td>\n",
       "    </tr>\n",
       "    <tr>\n",
       "      <th>31</th>\n",
       "      <td>AATSVFCGSSHRQLHHAVIPHGKGGRSSVSGVVATVFGATGFLGRY...</td>\n",
       "      <td>7.0</td>\n",
       "      <td>doi.org/10.1038/s41592-020-0801-4</td>\n",
       "      <td>40.8</td>\n",
       "      <td>30</td>\n",
       "    </tr>\n",
       "    <tr>\n",
       "      <th>40</th>\n",
       "      <td>ACPDSNDKEIRGFCFKFVVQKMAYNDARNWCHYQNPVGPSYLAVVG...</td>\n",
       "      <td>7.0</td>\n",
       "      <td>doi.org/10.1038/s41592-020-0801-4</td>\n",
       "      <td>45.7</td>\n",
       "      <td>39</td>\n",
       "    </tr>\n",
       "  </tbody>\n",
       "</table>\n",
       "</div>"
      ],
      "text/plain": [
       "                                         protein_sequence   pH  \\\n",
       "seq_id                                                           \n",
       "5       AACFWRRTVIPKPPFRGISTTSARSTVMPAWVIDKYGKNEVLRFTQ...  7.0   \n",
       "6       AACFWRRTVIPKPPFRGISTTSARSTVMPAWVIDKYGKNEVLRFTQ...  7.0   \n",
       "20      AAMNPEYDYLFKLLLIGDSGVGKSCLLLRFADDTYTESYISTIGVD...  7.0   \n",
       "31      AATSVFCGSSHRQLHHAVIPHGKGGRSSVSGVVATVFGATGFLGRY...  7.0   \n",
       "40      ACPDSNDKEIRGFCFKFVVQKMAYNDARNWCHYQNPVGPSYLAVVG...  7.0   \n",
       "\n",
       "                              data_source    tm  group  \n",
       "seq_id                                                  \n",
       "5       doi.org/10.1038/s41592-020-0801-4  48.4      5  \n",
       "6       doi.org/10.1038/s41592-020-0801-4  45.7      5  \n",
       "20      doi.org/10.1038/s41592-020-0801-4  42.5     19  \n",
       "31      doi.org/10.1038/s41592-020-0801-4  40.8     30  \n",
       "40      doi.org/10.1038/s41592-020-0801-4  45.7     39  "
      ]
     },
     "execution_count": 33,
     "metadata": {},
     "output_type": "execute_result"
    }
   ],
   "source": [
    "train_df[train_df[\"group\"] != -1].head()"
   ]
  },
  {
   "cell_type": "code",
   "execution_count": 13,
   "id": "1490d41a-5c07-426c-bdfb-efe73829d888",
   "metadata": {},
   "outputs": [],
   "source": [
    "def get_wildtypes(groups, method=\"mode\"):\n",
    "    wildtypes = {}\n",
    "    if method == \"mode\":\n",
    "        for group_num, group_proteins in groups.items():\n",
    "            wildtypes[group_num] = stats.mode(groups[group_num])[0][0]\n",
    "    elif method == \"editops\":\n",
    "        for group_num, group_proteins in groups.items():\n",
    "            differenсies = {}\n",
    "            for cur_protein in group_proteins:\n",
    "                differenсies[cur_protein] = 0\n",
    "                for protein in group_proteins:\n",
    "                    differenсies[cur_protein] += len(editops(cur_protein, protein))\n",
    "            wildtypes[group_num] = min(differenсies, key=differenсies.get)\n",
    "    else:\n",
    "        raise TypeError\n",
    "    return wildtypes"
   ]
  },
  {
   "cell_type": "code",
   "execution_count": 34,
   "id": "8d52fdd6-5438-4b85-b13d-5843d3325e57",
   "metadata": {},
   "outputs": [],
   "source": [
    "all_grouped_proteins = {\n",
    "    k: v\n",
    "    for k, v in train_df.groupby(\"group\")[\"protein_sequence\"]\n",
    "    .apply(list)\n",
    "    .to_dict()\n",
    "    .items()\n",
    "    if k != -1\n",
    "}"
   ]
  },
  {
   "cell_type": "code",
   "execution_count": 37,
   "id": "13db5b1a-7efd-4d5f-afcb-2696d99c2eef",
   "metadata": {},
   "outputs": [],
   "source": [
    "mode_wildtypes = get_wildtypes(\n",
    "    all_grouped_proteins,\n",
    ")"
   ]
  },
  {
   "cell_type": "code",
   "execution_count": 38,
   "id": "0fa5cd3e-fbbb-4cfb-a37f-d63a359e1e6d",
   "metadata": {},
   "outputs": [],
   "source": [
    "editops_wildtypes = get_wildtypes(\n",
    "    groups,\n",
    "    method=\"editops\",\n",
    ")"
   ]
  },
  {
   "cell_type": "code",
   "execution_count": 39,
   "id": "d64d97e2-f34d-4337-8499-c96f2b0484f7",
   "metadata": {},
   "outputs": [],
   "source": [
    "train_df[\"wildtype\"] = train_df.apply(\n",
    "    lambda x: editops_wildtypes[x[\"group\"]] if x[\"group\"] != -1 else np.nan,\n",
    "    axis=1,\n",
    ")"
   ]
  },
  {
   "cell_type": "code",
   "execution_count": 40,
   "id": "99945c63-b5c4-46f7-b3ee-79115dc70d9c",
   "metadata": {},
   "outputs": [],
   "source": [
    "train_df[\"mode_wildtype\"] = train_df.apply(\n",
    "    lambda x: mode_wildtypes[x[\"group\"]] if x[\"group\"] != -1 else np.nan,\n",
    "    axis=1,\n",
    ")"
   ]
  },
  {
   "cell_type": "code",
   "execution_count": 41,
   "id": "62e34f90-26ac-4fa0-9bd5-f2cafd2f066a",
   "metadata": {},
   "outputs": [
    {
     "data": {
      "text/html": [
       "<div>\n",
       "<style scoped>\n",
       "    .dataframe tbody tr th:only-of-type {\n",
       "        vertical-align: middle;\n",
       "    }\n",
       "\n",
       "    .dataframe tbody tr th {\n",
       "        vertical-align: top;\n",
       "    }\n",
       "\n",
       "    .dataframe thead th {\n",
       "        text-align: right;\n",
       "    }\n",
       "</style>\n",
       "<table border=\"1\" class=\"dataframe\">\n",
       "  <thead>\n",
       "    <tr style=\"text-align: right;\">\n",
       "      <th></th>\n",
       "      <th>protein_sequence</th>\n",
       "      <th>pH</th>\n",
       "      <th>data_source</th>\n",
       "      <th>tm</th>\n",
       "      <th>group</th>\n",
       "      <th>wildtype</th>\n",
       "      <th>mode_wildtype</th>\n",
       "    </tr>\n",
       "    <tr>\n",
       "      <th>seq_id</th>\n",
       "      <th></th>\n",
       "      <th></th>\n",
       "      <th></th>\n",
       "      <th></th>\n",
       "      <th></th>\n",
       "      <th></th>\n",
       "      <th></th>\n",
       "    </tr>\n",
       "  </thead>\n",
       "  <tbody>\n",
       "    <tr>\n",
       "      <th>0</th>\n",
       "      <td>AAAAKAAALALLGEAPEVVDIWLPAGWRQPFRVFRLERKGDGVLVG...</td>\n",
       "      <td>7.0</td>\n",
       "      <td>doi.org/10.1038/s41592-020-0801-4</td>\n",
       "      <td>75.7</td>\n",
       "      <td>-1</td>\n",
       "      <td>NaN</td>\n",
       "      <td>NaN</td>\n",
       "    </tr>\n",
       "    <tr>\n",
       "      <th>1</th>\n",
       "      <td>AAADGEPLHNEEERAGAGQVGRSLPQESEEQRTGSRPRRRRDLGSR...</td>\n",
       "      <td>7.0</td>\n",
       "      <td>doi.org/10.1038/s41592-020-0801-4</td>\n",
       "      <td>50.5</td>\n",
       "      <td>-1</td>\n",
       "      <td>NaN</td>\n",
       "      <td>NaN</td>\n",
       "    </tr>\n",
       "    <tr>\n",
       "      <th>2</th>\n",
       "      <td>AAAFSTPRATSYRILSSAGSGSTRADAPQVRRLHTTRDLLAKDYYA...</td>\n",
       "      <td>7.0</td>\n",
       "      <td>doi.org/10.1038/s41592-020-0801-4</td>\n",
       "      <td>40.5</td>\n",
       "      <td>-1</td>\n",
       "      <td>NaN</td>\n",
       "      <td>NaN</td>\n",
       "    </tr>\n",
       "    <tr>\n",
       "      <th>3</th>\n",
       "      <td>AAASGLRTAIPAQPLRHLLQPAPRPCLRPFGLLSVRAGSARRSGLL...</td>\n",
       "      <td>7.0</td>\n",
       "      <td>doi.org/10.1038/s41592-020-0801-4</td>\n",
       "      <td>47.2</td>\n",
       "      <td>-1</td>\n",
       "      <td>NaN</td>\n",
       "      <td>NaN</td>\n",
       "    </tr>\n",
       "    <tr>\n",
       "      <th>4</th>\n",
       "      <td>AAATKSGPRRQSQGASVRTFTPFYFLVEPVDTLSVRGSSVILNCSA...</td>\n",
       "      <td>7.0</td>\n",
       "      <td>doi.org/10.1038/s41592-020-0801-4</td>\n",
       "      <td>49.5</td>\n",
       "      <td>-1</td>\n",
       "      <td>NaN</td>\n",
       "      <td>NaN</td>\n",
       "    </tr>\n",
       "  </tbody>\n",
       "</table>\n",
       "</div>"
      ],
      "text/plain": [
       "                                         protein_sequence   pH  \\\n",
       "seq_id                                                           \n",
       "0       AAAAKAAALALLGEAPEVVDIWLPAGWRQPFRVFRLERKGDGVLVG...  7.0   \n",
       "1       AAADGEPLHNEEERAGAGQVGRSLPQESEEQRTGSRPRRRRDLGSR...  7.0   \n",
       "2       AAAFSTPRATSYRILSSAGSGSTRADAPQVRRLHTTRDLLAKDYYA...  7.0   \n",
       "3       AAASGLRTAIPAQPLRHLLQPAPRPCLRPFGLLSVRAGSARRSGLL...  7.0   \n",
       "4       AAATKSGPRRQSQGASVRTFTPFYFLVEPVDTLSVRGSSVILNCSA...  7.0   \n",
       "\n",
       "                              data_source    tm  group wildtype mode_wildtype  \n",
       "seq_id                                                                         \n",
       "0       doi.org/10.1038/s41592-020-0801-4  75.7     -1      NaN           NaN  \n",
       "1       doi.org/10.1038/s41592-020-0801-4  50.5     -1      NaN           NaN  \n",
       "2       doi.org/10.1038/s41592-020-0801-4  40.5     -1      NaN           NaN  \n",
       "3       doi.org/10.1038/s41592-020-0801-4  47.2     -1      NaN           NaN  \n",
       "4       doi.org/10.1038/s41592-020-0801-4  49.5     -1      NaN           NaN  "
      ]
     },
     "execution_count": 41,
     "metadata": {},
     "output_type": "execute_result"
    }
   ],
   "source": [
    "train_df.head()"
   ]
  },
  {
   "cell_type": "code",
   "execution_count": 42,
   "id": "6bb2b710-dac2-4888-b18d-2b8c2f347819",
   "metadata": {},
   "outputs": [
    {
     "data": {
      "text/html": [
       "<div>\n",
       "<style scoped>\n",
       "    .dataframe tbody tr th:only-of-type {\n",
       "        vertical-align: middle;\n",
       "    }\n",
       "\n",
       "    .dataframe tbody tr th {\n",
       "        vertical-align: top;\n",
       "    }\n",
       "\n",
       "    .dataframe thead th {\n",
       "        text-align: right;\n",
       "    }\n",
       "</style>\n",
       "<table border=\"1\" class=\"dataframe\">\n",
       "  <thead>\n",
       "    <tr style=\"text-align: right;\">\n",
       "      <th></th>\n",
       "      <th>protein_sequence</th>\n",
       "      <th>pH</th>\n",
       "      <th>data_source</th>\n",
       "      <th>tm</th>\n",
       "      <th>group</th>\n",
       "      <th>wildtype</th>\n",
       "      <th>mode_wildtype</th>\n",
       "    </tr>\n",
       "    <tr>\n",
       "      <th>seq_id</th>\n",
       "      <th></th>\n",
       "      <th></th>\n",
       "      <th></th>\n",
       "      <th></th>\n",
       "      <th></th>\n",
       "      <th></th>\n",
       "      <th></th>\n",
       "    </tr>\n",
       "  </thead>\n",
       "  <tbody>\n",
       "    <tr>\n",
       "      <th>5</th>\n",
       "      <td>AACFWRRTVIPKPPFRGISTTSARSTVMPAWVIDKYGKNEVLRFTQ...</td>\n",
       "      <td>7.0</td>\n",
       "      <td>doi.org/10.1038/s41592-020-0801-4</td>\n",
       "      <td>48.4</td>\n",
       "      <td>5</td>\n",
       "      <td>AACFWRRTVIPKPPFRGISTTSARSTVMPAWVIDKYGKNEVLRFTQ...</td>\n",
       "      <td>AACFWRRTVIPKPPFRGISTTSARSTVMPAWVIDKYGKNEVLRFTQ...</td>\n",
       "    </tr>\n",
       "    <tr>\n",
       "      <th>6</th>\n",
       "      <td>AACFWRRTVIPKPPFRGISTTSARSTVMPAWVIDKYGKNEVLRFTQ...</td>\n",
       "      <td>7.0</td>\n",
       "      <td>doi.org/10.1038/s41592-020-0801-4</td>\n",
       "      <td>45.7</td>\n",
       "      <td>5</td>\n",
       "      <td>AACFWRRTVIPKPPFRGISTTSARSTVMPAWVIDKYGKNEVLRFTQ...</td>\n",
       "      <td>AACFWRRTVIPKPPFRGISTTSARSTVMPAWVIDKYGKNEVLRFTQ...</td>\n",
       "    </tr>\n",
       "    <tr>\n",
       "      <th>20</th>\n",
       "      <td>AAMNPEYDYLFKLLLIGDSGVGKSCLLLRFADDTYTESYISTIGVD...</td>\n",
       "      <td>7.0</td>\n",
       "      <td>doi.org/10.1038/s41592-020-0801-4</td>\n",
       "      <td>42.5</td>\n",
       "      <td>19</td>\n",
       "      <td>MNPEYDYLFKLLLIGDSGVGKSCLLLRFADDSYLDSYISTIGVDFK...</td>\n",
       "      <td>AAMNPEYDYLFKLLLIGDSGVGKSCLLLRFADDTYTESYISTIGVD...</td>\n",
       "    </tr>\n",
       "    <tr>\n",
       "      <th>31</th>\n",
       "      <td>AATSVFCGSSHRQLHHAVIPHGKGGRSSVSGVVATVFGATGFLGRY...</td>\n",
       "      <td>7.0</td>\n",
       "      <td>doi.org/10.1038/s41592-020-0801-4</td>\n",
       "      <td>40.8</td>\n",
       "      <td>30</td>\n",
       "      <td>AATSVFCGSSHRQLHHAVIPHGKGGRSSVSGVVATVFGATGFLGRY...</td>\n",
       "      <td>AATSVFCGSSHRQLHHAVIPHGKGGRSSVSGVVATVFGATGFLGRY...</td>\n",
       "    </tr>\n",
       "    <tr>\n",
       "      <th>40</th>\n",
       "      <td>ACPDSNDKEIRGFCFKFVVQKMAYNDARNWCHYQNPVGPSYLAVVG...</td>\n",
       "      <td>7.0</td>\n",
       "      <td>doi.org/10.1038/s41592-020-0801-4</td>\n",
       "      <td>45.7</td>\n",
       "      <td>39</td>\n",
       "      <td>ACPDSNDKEIRGFCFKFVVQKMTYNDARNWCHYQNPVGPSYLAVVG...</td>\n",
       "      <td>ACPDSNDKEIRGFCFKFVVQKMAYNDARNWCHYQNPVGPSYLAVVG...</td>\n",
       "    </tr>\n",
       "  </tbody>\n",
       "</table>\n",
       "</div>"
      ],
      "text/plain": [
       "                                         protein_sequence   pH  \\\n",
       "seq_id                                                           \n",
       "5       AACFWRRTVIPKPPFRGISTTSARSTVMPAWVIDKYGKNEVLRFTQ...  7.0   \n",
       "6       AACFWRRTVIPKPPFRGISTTSARSTVMPAWVIDKYGKNEVLRFTQ...  7.0   \n",
       "20      AAMNPEYDYLFKLLLIGDSGVGKSCLLLRFADDTYTESYISTIGVD...  7.0   \n",
       "31      AATSVFCGSSHRQLHHAVIPHGKGGRSSVSGVVATVFGATGFLGRY...  7.0   \n",
       "40      ACPDSNDKEIRGFCFKFVVQKMAYNDARNWCHYQNPVGPSYLAVVG...  7.0   \n",
       "\n",
       "                              data_source    tm  group  \\\n",
       "seq_id                                                   \n",
       "5       doi.org/10.1038/s41592-020-0801-4  48.4      5   \n",
       "6       doi.org/10.1038/s41592-020-0801-4  45.7      5   \n",
       "20      doi.org/10.1038/s41592-020-0801-4  42.5     19   \n",
       "31      doi.org/10.1038/s41592-020-0801-4  40.8     30   \n",
       "40      doi.org/10.1038/s41592-020-0801-4  45.7     39   \n",
       "\n",
       "                                                 wildtype  \\\n",
       "seq_id                                                      \n",
       "5       AACFWRRTVIPKPPFRGISTTSARSTVMPAWVIDKYGKNEVLRFTQ...   \n",
       "6       AACFWRRTVIPKPPFRGISTTSARSTVMPAWVIDKYGKNEVLRFTQ...   \n",
       "20      MNPEYDYLFKLLLIGDSGVGKSCLLLRFADDSYLDSYISTIGVDFK...   \n",
       "31      AATSVFCGSSHRQLHHAVIPHGKGGRSSVSGVVATVFGATGFLGRY...   \n",
       "40      ACPDSNDKEIRGFCFKFVVQKMTYNDARNWCHYQNPVGPSYLAVVG...   \n",
       "\n",
       "                                            mode_wildtype  \n",
       "seq_id                                                     \n",
       "5       AACFWRRTVIPKPPFRGISTTSARSTVMPAWVIDKYGKNEVLRFTQ...  \n",
       "6       AACFWRRTVIPKPPFRGISTTSARSTVMPAWVIDKYGKNEVLRFTQ...  \n",
       "20      AAMNPEYDYLFKLLLIGDSGVGKSCLLLRFADDTYTESYISTIGVD...  \n",
       "31      AATSVFCGSSHRQLHHAVIPHGKGGRSSVSGVVATVFGATGFLGRY...  \n",
       "40      ACPDSNDKEIRGFCFKFVVQKMAYNDARNWCHYQNPVGPSYLAVVG...  "
      ]
     },
     "execution_count": 42,
     "metadata": {},
     "output_type": "execute_result"
    }
   ],
   "source": [
    "train_df[train_df[\"group\"] != -1].head()"
   ]
  },
  {
   "cell_type": "code",
   "execution_count": 43,
   "id": "da315544-197a-4123-b970-0f3ac21494a5",
   "metadata": {},
   "outputs": [],
   "source": [
    "train_df.to_csv(\"data/enzyme/train_with_wildtypes.csv\", index=False)"
   ]
  },
  {
   "cell_type": "code",
   "execution_count": 44,
   "id": "55ab0914-707f-4f67-8ba3-3b8450fecde6",
   "metadata": {},
   "outputs": [
    {
     "data": {
      "text/plain": [
       "[('replace', 28, 28)]"
      ]
     },
     "execution_count": 44,
     "metadata": {},
     "output_type": "execute_result"
    }
   ],
   "source": [
    "editops(train_df.loc[28856, \"wildtype\"], train_df.loc[28856, \"protein_sequence\"])"
   ]
  },
  {
   "cell_type": "code",
   "execution_count": 74,
   "id": "d6e85f76-bd7a-4f54-8a69-440fa1ddb1b3",
   "metadata": {},
   "outputs": [
    {
     "data": {
      "text/plain": [
       "-1        21863\n",
       " 13290      816\n",
       " 12987      783\n",
       " 10919      308\n",
       " 13859      211\n",
       "          ...  \n",
       " 7530         2\n",
       " 19840        2\n",
       " 11660        2\n",
       " 9613         2\n",
       " 13937        2\n",
       "Name: group, Length: 1344, dtype: int64"
      ]
     },
     "execution_count": 74,
     "metadata": {},
     "output_type": "execute_result"
    }
   ],
   "source": [
    "train_df[\"group\"].value_counts()"
   ]
  },
  {
   "cell_type": "code",
   "execution_count": null,
   "id": "ade37188-6b77-4778-8e6a-e65b31c9daa9",
   "metadata": {},
   "outputs": [],
   "source": []
  },
  {
   "cell_type": "code",
   "execution_count": 84,
   "id": "70e5c5c2-aa77-4091-b9f0-c7072d54c1cf",
   "metadata": {},
   "outputs": [
    {
     "data": {
      "text/plain": [
       "seq_id\n",
       "19480    MNQSVSSLPEKDIQYQLHPYTNARLHQELGPLIIERGEGIYVYDDQ...\n",
       "19481    MNQSVSSLPEKDIQYQLHPYTNARLHQELGPLIIERGEGIYVYDDQ...\n",
       "19482    MNQSVSSLPEKDIQYQLHPYTNARLHQELGPLIIERGEGIYVYDDQ...\n",
       "19483    MNQSVSSLPEKDIQYQLHPYTNARLHQELGPLIIERGEGIYVYDDQ...\n",
       "19484    MNQSVSSLPEKDIQYQLHPYTNARLHQELGPLIIERGEGIYVYDDQ...\n",
       "                               ...                        \n",
       "19686    MNQSVSSLPEKDIQYQLHPYTNARLHQELGPLIIERGEGIYVYDDQ...\n",
       "19687    MNQSVSSLPEKDIQYQLHPYTNARLHQELGPLIIERGEGIYVYDDQ...\n",
       "19688    MNQSVSSLPEKDIQYQLHPYTNARLHQELGPLIIERGEGIYVYDDQ...\n",
       "19689    MNQSVSSLPEKDIQYQLHPYTNARLHQELGPLIIERGEGIYVYDDQ...\n",
       "19690    MNQSVSSLPEKDIQYQLHPYTNARLHQELGPLIIERGEGIYVYDDQ...\n",
       "Name: wildtype, Length: 211, dtype: object"
      ]
     },
     "execution_count": 84,
     "metadata": {},
     "output_type": "execute_result"
    }
   ],
   "source": [
    "train_df.loc[train_df[\"group\"] == 13859, \"wildtype\"]"
   ]
  },
  {
   "cell_type": "code",
   "execution_count": 85,
   "id": "6f35749e-04ec-4533-a4d2-d3ce04d6127b",
   "metadata": {},
   "outputs": [
    {
     "data": {
      "text/plain": [
       "'MNQSVSSLPEKDIQYQLHPYTNARLHQELGPLIIERGEGIYVYDDQGKGYIEAMAGLWSAALGFSNQRLIKAAEQQFNTLPFYHLFSHKSHRPSIELAEKLIEMAPVPMSKVFFTNSGSEANDTVVKMVWYLNNALGKPAKKKFISRVNGYHGITVASASLTGLPGNQRGFDLPLPGFLHVGCPHHYRFALAGESEEHFADRLAVELEQKILAEGPETIAAFIGEPLMGAGGVIVPPRTYWEKIQKVCRKYDILVIADEVICGFGRTGQMFGSQTFGIQPDIMVLSKQLSSSYQPIAAILINAPVFEGIADQSQALGALGHGFTGSGHPVATAVALENLKIIEEESLVEHAAQMGQLLRSGLQHFIDHPLVGEIRGCGLIAAVELVGDRVSKAPYQALGTLGRYMAGRAQEHGMITRAMGDAVAFCPPLIVNEQEVGMIVERFARALADTTQWVG'"
      ]
     },
     "execution_count": 85,
     "metadata": {},
     "output_type": "execute_result"
    }
   ],
   "source": [
    "train_df.loc[19480, \"wildtype\"]"
   ]
  },
  {
   "cell_type": "code",
   "execution_count": 88,
   "id": "46935054-12d1-4174-8264-54be082e9ed6",
   "metadata": {},
   "outputs": [
    {
     "data": {
      "text/plain": [
       "seq_id\n",
       "0       -1\n",
       "1       -1\n",
       "2       -1\n",
       "3       -1\n",
       "4       -1\n",
       "        ..\n",
       "31385   -1\n",
       "31386   -1\n",
       "31387   -1\n",
       "31388   -1\n",
       "31389   -1\n",
       "Name: group, Length: 31390, dtype: int64"
      ]
     },
     "execution_count": 88,
     "metadata": {},
     "output_type": "execute_result"
    }
   ],
   "source": [
    "train_df[\"group\"]"
   ]
  },
  {
   "cell_type": "code",
   "execution_count": null,
   "id": "a1be66bf-a0a4-46d5-84c8-60951571c270",
   "metadata": {},
   "outputs": [],
   "source": []
  }
 ],
 "metadata": {
  "kernelspec": {
   "display_name": "Python 3 (ipykernel)",
   "language": "python",
   "name": "python3"
  },
  "language_info": {
   "codemirror_mode": {
    "name": "ipython",
    "version": 3
   },
   "file_extension": ".py",
   "mimetype": "text/x-python",
   "name": "python",
   "nbconvert_exporter": "python",
   "pygments_lexer": "ipython3",
   "version": "3.9.12"
  }
 },
 "nbformat": 4,
 "nbformat_minor": 5
}
