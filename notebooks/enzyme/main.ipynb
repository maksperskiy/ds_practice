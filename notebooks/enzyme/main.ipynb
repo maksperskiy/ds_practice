{
 "cells": [
  {
   "cell_type": "code",
   "execution_count": 1,
   "id": "ecf161a7-4f34-425b-9104-267bb67e3b73",
   "metadata": {},
   "outputs": [
    {
     "data": {
      "text/plain": [
       "'/home/INTEXSOFT/maksim.stupakevich/work/ds_practice'"
      ]
     },
     "execution_count": 1,
     "metadata": {},
     "output_type": "execute_result"
    }
   ],
   "source": [
    "import os\n",
    "\n",
    "os.chdir(\"../..\")\n",
    "os.getcwd()"
   ]
  },
  {
   "cell_type": "code",
   "execution_count": 2,
   "id": "2e77b34a-9160-47fe-a0a4-1573efd760ff",
   "metadata": {},
   "outputs": [],
   "source": [
    "import pickle\n",
    "\n",
    "import matplotlib.pyplot as plt\n",
    "import numpy as np\n",
    "import pandas as pd\n",
    "from Levenshtein import editops\n",
    "from scipy import stats\n",
    "from sklearn.model_selection import train_test_split\n",
    "from sklearn.preprocessing import StandardScaler"
   ]
  },
  {
   "cell_type": "code",
   "execution_count": 3,
   "id": "8ad86e2d-d2e9-49eb-975f-cf03b4b33f7c",
   "metadata": {},
   "outputs": [],
   "source": [
    "from tqdm import tqdm"
   ]
  },
  {
   "cell_type": "code",
   "execution_count": 37,
   "id": "6f56fc6e-0433-4454-8da1-071235b90a3f",
   "metadata": {},
   "outputs": [],
   "source": [
    "with open(\"data/enzyme/train_groups.pkl\", \"rb\") as f:\n",
    "    groups = pickle.load(f)"
   ]
  },
  {
   "cell_type": "code",
   "execution_count": 38,
   "id": "93731279-aaff-4f2c-845c-1d50346e3d45",
   "metadata": {},
   "outputs": [
    {
     "data": {
      "text/plain": [
       "4471"
      ]
     },
     "execution_count": 38,
     "metadata": {},
     "output_type": "execute_result"
    }
   ],
   "source": [
    "len(groups)"
   ]
  },
  {
   "cell_type": "code",
   "execution_count": 39,
   "id": "8376591e-a6a0-4fd5-8ad0-b593be665b16",
   "metadata": {},
   "outputs": [],
   "source": [
    "def merge_groups(groups):\n",
    "    new_groups = {}\n",
    "    start_len = len(groups)\n",
    "    i = 0\n",
    "    with tqdm(total=len(groups)) as pbar:\n",
    "        while groups:\n",
    "            proteins = groups.pop(list(groups.keys())[0])\n",
    "            protein = proteins[0]\n",
    "            new_groups[protein] = [i]\n",
    "\n",
    "            idxs_to_del = []\n",
    "            for k, v in groups.items():\n",
    "                similar = editops(protein, v[0])\n",
    "                if len(similar) <= 10:\n",
    "                    proteins.extend(v)\n",
    "                    idxs_to_del.append(k)\n",
    "            [groups.pop(el) for el in idxs_to_del]\n",
    "            new_groups[i] = proteins\n",
    "            i += 1\n",
    "            pbar.update(len(idxs_to_del) + 1)\n",
    "\n",
    "    return new_groups"
   ]
  },
  {
   "cell_type": "code",
   "execution_count": 40,
   "id": "49d5c5cf-f19f-4f7c-ad13-5bed3ae4d325",
   "metadata": {},
   "outputs": [
    {
     "name": "stderr",
     "output_type": "stream",
     "text": [
      "100%|██████████████████████████████████████| 4471/4471 [00:44<00:00, 101.17it/s]\n"
     ]
    }
   ],
   "source": [
    "new_groups = merge_groups(groups)"
   ]
  },
  {
   "cell_type": "code",
   "execution_count": null,
   "id": "ba0b9c4e-1717-4059-9e0d-61bed5c70c1d",
   "metadata": {
    "tags": []
   },
   "outputs": [
    {
     "data": {
      "text/plain": [
       "361"
      ]
     },
     "execution_count": 54,
     "metadata": {},
     "output_type": "execute_result"
    }
   ],
   "source": [
    "len({i: el for i, el in new_groups.items() if len(el) > 1})"
   ]
  },
  {
   "cell_type": "code",
   "execution_count": 58,
   "id": "bff33069-ee42-41fc-be68-e60cf0ca1676",
   "metadata": {
    "tags": []
   },
   "outputs": [
    {
     "data": {
      "text/plain": [
       "361"
      ]
     },
     "execution_count": 58,
     "metadata": {},
     "output_type": "execute_result"
    }
   ],
   "source": [
    "len({i: el for i, el in new_groups.items() if len(el) == 1})"
   ]
  },
  {
   "cell_type": "code",
   "execution_count": 55,
   "id": "78419d0c-02b7-4c83-a3e0-cd204693c067",
   "metadata": {},
   "outputs": [
    {
     "data": {
      "text/plain": [
       "161"
      ]
     },
     "execution_count": 55,
     "metadata": {},
     "output_type": "execute_result"
    }
   ],
   "source": [
    "len({i: el for i, el in new_groups.items() if len(el) > 2})"
   ]
  },
  {
   "cell_type": "code",
   "execution_count": 57,
   "id": "c351e4a4-b4b5-4c44-bcfe-66e960f65de9",
   "metadata": {},
   "outputs": [
    {
     "data": {
      "text/plain": [
       "722"
      ]
     },
     "execution_count": 57,
     "metadata": {},
     "output_type": "execute_result"
    }
   ],
   "source": [
    "len(new_groups)"
   ]
  },
  {
   "cell_type": "code",
   "execution_count": 59,
   "id": "56f437ed-285c-4f72-b776-cdcdfea8bd54",
   "metadata": {},
   "outputs": [],
   "source": [
    "with open(\"data/enzyme/fixed_train_groups.pkl\", \"wb\") as f:\n",
    "    pickle.dump(new_groups, f)"
   ]
  },
  {
   "cell_type": "code",
   "execution_count": null,
   "id": "fd3b2724-0337-4c57-9c66-544d891ed926",
   "metadata": {},
   "outputs": [],
   "source": []
  }
 ],
 "metadata": {
  "kernelspec": {
   "display_name": "Python 3 (ipykernel)",
   "language": "python",
   "name": "python3"
  },
  "language_info": {
   "codemirror_mode": {
    "name": "ipython",
    "version": 3
   },
   "file_extension": ".py",
   "mimetype": "text/x-python",
   "name": "python",
   "nbconvert_exporter": "python",
   "pygments_lexer": "ipython3",
   "version": "3.9.12"
  }
 },
 "nbformat": 4,
 "nbformat_minor": 5
}
